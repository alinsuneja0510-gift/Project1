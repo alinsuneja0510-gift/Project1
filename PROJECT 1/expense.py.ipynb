{
 "cells": [
  {
   "cell_type": "code",
   "execution_count": 1,
   "metadata": {},
   "outputs": [],
   "source": [
    "from faker import Faker\n",
    "import random\n",
    "import pandas as pd \n",
    "from datetime import datetime"
   ]
  },
  {
   "cell_type": "code",
   "execution_count": 2,
   "metadata": {},
   "outputs": [],
   "source": [
    "#Initialize the Faker object\n",
    "fake = Faker()\n"
   ]
  },
  {
   "cell_type": "code",
   "execution_count": 3,
   "metadata": {},
   "outputs": [],
   "source": [
    "#Categories and payment modes\n",
    "categories = [\"Housing\", \"Food\", \"Healthcare\", \"Transportation\", \"Entertainment\", \"Subscriptions\"]\n",
    "payment_modes = [\"Debit Card\", \"Cash\", \"UPI\"]"
   ]
  },
  {
   "cell_type": "code",
   "execution_count": 6,
   "metadata": {},
   "outputs": [
    {
     "name": "stdout",
     "output_type": "stream",
     "text": [
      "January Table:\n",
      "         Date        Category Payment mode        Description   Amount  \\\n",
      "0  2024-01-10  Transportation          UPI      Mother stuff.   192.91   \n",
      "1  2024-01-12  Transportation          UPI      Air all near.  1030.52   \n",
      "2  2024-01-11            Food          UPI  Likely late hour.   786.99   \n",
      "3  2024-01-13      Healthcare   Debit Card        Table upon.   916.22   \n",
      "4  2024-01-27  Transportation          UPI             Issue.   338.91   \n",
      "\n",
      "   Cashback  \n",
      "0     13.28  \n",
      "1     61.10  \n",
      "2     12.56  \n",
      "3     71.71  \n",
      "4      0.97  \n"
     ]
    }
   ],
   "source": [
    "from faker import Faker\n",
    "import random\n",
    "import pandas as pd\n",
    "from datetime import datetime\n",
    "\n",
    "# Initialize the Faker object\n",
    "fake = Faker()\n",
    "\n",
    "# Updated categories and payment modes\n",
    "categories = [\"Housing\", \"Food\", \"Healthcare\", \"Transportation\", \"Entertainment\", \"Subscriptions\"]\n",
    "payment_modes = [\"Debit Card\", \"Cash\", \"UPI\"]\n",
    "\n",
    "# Function to generate expense data for a specific month\n",
    "def gen_exp_data_for_month(year, month, num_entries):\n",
    "    data = []  # Initialize an empty list to store generated data\n",
    "    start_date = datetime.strptime(f\"{year}-{month:02d}-01\", \"%Y-%m-%d\").date()\n",
    "    end_date = datetime.strptime(f\"{year}-{month:02d}-28\", \"%Y-%m-%d\").date()  # For simplicity\n",
    "\n",
    "    for _ in range(num_entries):\n",
    "        amount = round(random.uniform(100, 2000), 2)  # Random amount\n",
    "        cashback = round(amount * random.uniform(0, 0.1), 2)  # Cashback as 0–10% of the amount\n",
    "\n",
    "        expense = {\n",
    "            \"Date\": fake.date_between(start_date=start_date, end_date=end_date),\n",
    "            \"Category\": random.choice(categories),\n",
    "            \"Payment mode\": random.choice(payment_modes),\n",
    "            \"Description\": fake.sentence(nb_words=3),\n",
    "            \"Amount\": amount,\n",
    "            \"Cashback\": cashback  # Add cashback field\n",
    "        }\n",
    "        data.append(expense)\n",
    "    \n",
    "    return pd.DataFrame(data)  # Convert the list to a DataFrame\n",
    "\n",
    "# Generate 12 tables (one for each month in 2024)\n",
    "monthly_tables = {}\n",
    "for month in range(1, 13):  # Loop through months 1 to 12\n",
    "    table_name = datetime(2024, month, 1).strftime(\"%B\")  # Month name (e.g., \"January\")\n",
    "    monthly_tables[table_name] = gen_exp_data_for_month(2024, month, 100)\n",
    "\n",
    "# Example: Display the first table (January)\n",
    "print(\"January Table:\")\n",
    "print(monthly_tables[\"January\"].head())\n",
    "\n",
    "# Save each table as a CSV file (optional)\n",
    "for month_name, table in monthly_tables.items():\n",
    "    table.to_csv(f\"{month_name}_2024.csv\", index=False)\n"
   ]
  },
  {
   "cell_type": "code",
   "execution_count": 38,
   "metadata": {},
   "outputs": [
    {
     "name": "stdout",
     "output_type": "stream",
     "text": [
      "Data from data_batch_1.csv imported successfully!\n",
      "Data from data_batch_2.csv imported successfully!\n",
      "Data from data_batch_3.csv imported successfully!\n",
      "Data from data_batch_4.csv imported successfully!\n",
      "Data from data_batch_5.csv imported successfully!\n",
      "Data from data_batch_6.csv imported successfully!\n",
      "Data from data_batch_7.csv imported successfully!\n",
      "Data from data_batch_8.csv imported successfully!\n",
      "Data from data_batch_9.csv imported successfully!\n",
      "Data from data_batch_10.csv imported successfully!\n",
      "Data from data_batch_11.csv imported successfully!\n",
      "Data from data_batch_12.csv imported successfully!\n"
     ]
    }
   ],
   "source": [
    "import mysql.connector\n",
    "import csv\n",
    "\n",
    "def import_data_from_csv(file_path):\n",
    "    cursor = None\n",
    "    conn = None\n",
    "    try:\n",
    "        # Establish a connection to the database\n",
    "        conn = mysql.connector.connect(\n",
    "            host=\"localhost\",\n",
    "            user=\"root\",\n",
    "            password=\"P@sSw0rD051o\",\n",
    "            database=\"expenses_project\"\n",
    "        )\n",
    "        cursor = conn.cursor()\n",
    "\n",
    "        # Open the CSV file and read data\n",
    "        with open(file_path, 'r') as file:\n",
    "            reader = csv.reader(file)\n",
    "            next(reader)  # Skip the header row\n",
    "            formatted_data = []\n",
    "\n",
    "            # Process each row in the CSV\n",
    "            for row in reader:\n",
    "                formatted_data.append(tuple(row))  # Add row as it is (no date reformatting)\n",
    "\n",
    "            # Prepare the INSERT query without the id column\n",
    "            query = \"\"\"\n",
    "            INSERT INTO expenses (date, category, payment_mode, description, amount, cashback)\n",
    "            VALUES (%s, %s, %s, %s, %s, %s)\n",
    "            \"\"\"\n",
    "\n",
    "            # Insert all rows in one go\n",
    "            cursor.executemany(query, formatted_data)\n",
    "            conn.commit()  # Commit the transaction to save changes\n",
    "            print(f\"Data from {file_path} imported successfully!\")\n",
    "\n",
    "    except mysql.connector.Error as err:\n",
    "        print(f\"Error: {err}\")\n",
    "\n",
    "    finally:\n",
    "        # Ensure the cursor and connection are properly closed\n",
    "        if cursor:\n",
    "            cursor.close()\n",
    "        if conn:\n",
    "            conn.close()\n",
    "\n",
    "# Example usage\n",
    "import_data_from_csv('data_batch_1.csv')\n",
    "import_data_from_csv('data_batch_2.csv')\n",
    "import_data_from_csv('data_batch_3.csv')\n",
    "import_data_from_csv('data_batch_4.csv')\n",
    "import_data_from_csv('data_batch_5.csv')\n",
    "import_data_from_csv('data_batch_6.csv')\n",
    "import_data_from_csv('data_batch_7.csv')\n",
    "import_data_from_csv('data_batch_8.csv')\n",
    "import_data_from_csv('data_batch_9.csv')\n",
    "import_data_from_csv('data_batch_10.csv')\n",
    "import_data_from_csv('data_batch_11.csv')\n",
    "import_data_from_csv('data_batch_12.csv')\n",
    "\n"
   ]
  },
  {
   "cell_type": "code",
   "execution_count": 18,
   "metadata": {},
   "outputs": [
    {
     "name": "stdout",
     "output_type": "stream",
     "text": [
      "Table 'expenses' is ready.\n"
     ]
    }
   ],
   "source": [
    "\n",
    "\n",
    "# Create table (if not exists)\n",
    "cursor.execute(\"\"\"\n",
    "    CREATE TABLE IF NOT EXISTS expenses (\n",
    "       \n",
    "        date DATE,\n",
    "        category VARCHAR(255),\n",
    "        payment_mode VARCHAR(50),\n",
    "        description TEXT,\n",
    "        amount DECIMAL(10, 2),\n",
    "        cashback DECIMAL(5, 2)\n",
    "    )\n",
    "\"\"\")\n",
    "\n",
    "print(\"Table 'expenses' is ready.\")\n"
   ]
  },
  {
   "cell_type": "code",
   "execution_count": 40,
   "metadata": {},
   "outputs": [
    {
     "name": "stdout",
     "output_type": "stream",
     "text": [
      "Collecting streamlit\n",
      "  Using cached streamlit-1.41.1-py2.py3-none-any.whl.metadata (8.5 kB)\n",
      "Collecting altair<6,>=4.0 (from streamlit)\n",
      "  Using cached altair-5.5.0-py3-none-any.whl.metadata (11 kB)\n",
      "Collecting blinker<2,>=1.0.0 (from streamlit)\n",
      "  Using cached blinker-1.9.0-py3-none-any.whl.metadata (1.6 kB)\n",
      "Collecting cachetools<6,>=4.0 (from streamlit)\n",
      "  Using cached cachetools-5.5.0-py3-none-any.whl.metadata (5.3 kB)\n",
      "Collecting click<9,>=7.0 (from streamlit)\n",
      "  Using cached click-8.1.8-py3-none-any.whl.metadata (2.3 kB)\n",
      "Requirement already satisfied: numpy<3,>=1.23 in c:\\users\\great\\anaconda3\\envs\\my_python\\lib\\site-packages (from streamlit) (2.2.1)\n",
      "Requirement already satisfied: packaging<25,>=20 in c:\\users\\great\\anaconda3\\envs\\my_python\\lib\\site-packages (from streamlit) (24.2)\n",
      "Requirement already satisfied: pandas<3,>=1.4.0 in c:\\users\\great\\anaconda3\\envs\\my_python\\lib\\site-packages (from streamlit) (2.2.3)\n",
      "Collecting pillow<12,>=7.1.0 (from streamlit)\n",
      "  Using cached pillow-11.1.0-cp312-cp312-win_amd64.whl.metadata (9.3 kB)\n",
      "Collecting protobuf<6,>=3.20 (from streamlit)\n",
      "  Using cached protobuf-5.29.3-cp310-abi3-win_amd64.whl.metadata (592 bytes)\n",
      "Collecting pyarrow>=7.0 (from streamlit)\n",
      "  Using cached pyarrow-18.1.0-cp312-cp312-win_amd64.whl.metadata (3.4 kB)\n",
      "Requirement already satisfied: requests<3,>=2.27 in c:\\users\\great\\anaconda3\\envs\\my_python\\lib\\site-packages (from streamlit) (2.32.3)\n",
      "Collecting rich<14,>=10.14.0 (from streamlit)\n",
      "  Using cached rich-13.9.4-py3-none-any.whl.metadata (18 kB)\n",
      "Collecting tenacity<10,>=8.1.0 (from streamlit)\n",
      "  Using cached tenacity-9.0.0-py3-none-any.whl.metadata (1.2 kB)\n",
      "Collecting toml<2,>=0.10.1 (from streamlit)\n",
      "  Using cached toml-0.10.2-py2.py3-none-any.whl.metadata (7.1 kB)\n",
      "Requirement already satisfied: typing-extensions<5,>=4.3.0 in c:\\users\\great\\anaconda3\\envs\\my_python\\lib\\site-packages (from streamlit) (4.12.2)\n",
      "Collecting watchdog<7,>=2.1.5 (from streamlit)\n",
      "  Using cached watchdog-6.0.0-py3-none-win_amd64.whl.metadata (44 kB)\n",
      "Collecting gitpython!=3.1.19,<4,>=3.0.7 (from streamlit)\n",
      "  Using cached GitPython-3.1.44-py3-none-any.whl.metadata (13 kB)\n",
      "Collecting pydeck<1,>=0.8.0b4 (from streamlit)\n",
      "  Using cached pydeck-0.9.1-py2.py3-none-any.whl.metadata (4.1 kB)\n",
      "Requirement already satisfied: tornado<7,>=6.0.3 in c:\\users\\great\\anaconda3\\envs\\my_python\\lib\\site-packages (from streamlit) (6.4.2)\n",
      "Requirement already satisfied: jinja2 in c:\\users\\great\\anaconda3\\envs\\my_python\\lib\\site-packages (from altair<6,>=4.0->streamlit) (3.1.4)\n",
      "Requirement already satisfied: jsonschema>=3.0 in c:\\users\\great\\anaconda3\\envs\\my_python\\lib\\site-packages (from altair<6,>=4.0->streamlit) (4.23.0)\n",
      "Collecting narwhals>=1.14.2 (from altair<6,>=4.0->streamlit)\n",
      "  Using cached narwhals-1.21.1-py3-none-any.whl.metadata (10.0 kB)\n",
      "Requirement already satisfied: colorama in c:\\users\\great\\anaconda3\\envs\\my_python\\lib\\site-packages (from click<9,>=7.0->streamlit) (0.4.6)\n",
      "Collecting gitdb<5,>=4.0.1 (from gitpython!=3.1.19,<4,>=3.0.7->streamlit)\n",
      "  Using cached gitdb-4.0.12-py3-none-any.whl.metadata (1.2 kB)\n",
      "Requirement already satisfied: python-dateutil>=2.8.2 in c:\\users\\great\\anaconda3\\envs\\my_python\\lib\\site-packages (from pandas<3,>=1.4.0->streamlit) (2.9.0.post0)\n",
      "Requirement already satisfied: pytz>=2020.1 in c:\\users\\great\\anaconda3\\envs\\my_python\\lib\\site-packages (from pandas<3,>=1.4.0->streamlit) (2024.1)\n",
      "Requirement already satisfied: tzdata>=2022.7 in c:\\users\\great\\anaconda3\\envs\\my_python\\lib\\site-packages (from pandas<3,>=1.4.0->streamlit) (2024.2)\n",
      "Requirement already satisfied: charset-normalizer<4,>=2 in c:\\users\\great\\anaconda3\\envs\\my_python\\lib\\site-packages (from requests<3,>=2.27->streamlit) (3.3.2)\n",
      "Requirement already satisfied: idna<4,>=2.5 in c:\\users\\great\\anaconda3\\envs\\my_python\\lib\\site-packages (from requests<3,>=2.27->streamlit) (3.7)\n",
      "Requirement already satisfied: urllib3<3,>=1.21.1 in c:\\users\\great\\anaconda3\\envs\\my_python\\lib\\site-packages (from requests<3,>=2.27->streamlit) (2.2.3)\n",
      "Requirement already satisfied: certifi>=2017.4.17 in c:\\users\\great\\anaconda3\\envs\\my_python\\lib\\site-packages (from requests<3,>=2.27->streamlit) (2024.12.14)\n",
      "Collecting markdown-it-py>=2.2.0 (from rich<14,>=10.14.0->streamlit)\n",
      "  Using cached markdown_it_py-3.0.0-py3-none-any.whl.metadata (6.9 kB)\n",
      "Requirement already satisfied: pygments<3.0.0,>=2.13.0 in c:\\users\\great\\anaconda3\\envs\\my_python\\lib\\site-packages (from rich<14,>=10.14.0->streamlit) (2.15.1)\n",
      "Collecting smmap<6,>=3.0.1 (from gitdb<5,>=4.0.1->gitpython!=3.1.19,<4,>=3.0.7->streamlit)\n",
      "  Using cached smmap-5.0.2-py3-none-any.whl.metadata (4.3 kB)\n",
      "Requirement already satisfied: MarkupSafe>=2.0 in c:\\users\\great\\anaconda3\\envs\\my_python\\lib\\site-packages (from jinja2->altair<6,>=4.0->streamlit) (2.1.3)\n",
      "Requirement already satisfied: attrs>=22.2.0 in c:\\users\\great\\anaconda3\\envs\\my_python\\lib\\site-packages (from jsonschema>=3.0->altair<6,>=4.0->streamlit) (24.3.0)\n",
      "Requirement already satisfied: jsonschema-specifications>=2023.03.6 in c:\\users\\great\\anaconda3\\envs\\my_python\\lib\\site-packages (from jsonschema>=3.0->altair<6,>=4.0->streamlit) (2023.7.1)\n",
      "Requirement already satisfied: referencing>=0.28.4 in c:\\users\\great\\anaconda3\\envs\\my_python\\lib\\site-packages (from jsonschema>=3.0->altair<6,>=4.0->streamlit) (0.30.2)\n",
      "Requirement already satisfied: rpds-py>=0.7.1 in c:\\users\\great\\anaconda3\\envs\\my_python\\lib\\site-packages (from jsonschema>=3.0->altair<6,>=4.0->streamlit) (0.10.6)\n",
      "Collecting mdurl~=0.1 (from markdown-it-py>=2.2.0->rich<14,>=10.14.0->streamlit)\n",
      "  Using cached mdurl-0.1.2-py3-none-any.whl.metadata (1.6 kB)\n",
      "Requirement already satisfied: six>=1.5 in c:\\users\\great\\anaconda3\\envs\\my_python\\lib\\site-packages (from python-dateutil>=2.8.2->pandas<3,>=1.4.0->streamlit) (1.16.0)\n",
      "Using cached streamlit-1.41.1-py2.py3-none-any.whl (9.1 MB)\n",
      "Using cached altair-5.5.0-py3-none-any.whl (731 kB)\n",
      "Using cached blinker-1.9.0-py3-none-any.whl (8.5 kB)\n",
      "Using cached cachetools-5.5.0-py3-none-any.whl (9.5 kB)\n",
      "Using cached click-8.1.8-py3-none-any.whl (98 kB)\n",
      "Using cached GitPython-3.1.44-py3-none-any.whl (207 kB)\n",
      "Using cached pillow-11.1.0-cp312-cp312-win_amd64.whl (2.6 MB)\n",
      "Using cached protobuf-5.29.3-cp310-abi3-win_amd64.whl (434 kB)\n",
      "Using cached pyarrow-18.1.0-cp312-cp312-win_amd64.whl (25.1 MB)\n",
      "Using cached pydeck-0.9.1-py2.py3-none-any.whl (6.9 MB)\n",
      "Using cached rich-13.9.4-py3-none-any.whl (242 kB)\n",
      "Using cached tenacity-9.0.0-py3-none-any.whl (28 kB)\n",
      "Using cached toml-0.10.2-py2.py3-none-any.whl (16 kB)\n",
      "Using cached watchdog-6.0.0-py3-none-win_amd64.whl (79 kB)\n",
      "Using cached gitdb-4.0.12-py3-none-any.whl (62 kB)\n",
      "Using cached markdown_it_py-3.0.0-py3-none-any.whl (87 kB)\n",
      "Using cached narwhals-1.21.1-py3-none-any.whl (282 kB)\n",
      "Using cached mdurl-0.1.2-py3-none-any.whl (10.0 kB)\n",
      "Using cached smmap-5.0.2-py3-none-any.whl (24 kB)\n",
      "Installing collected packages: watchdog, toml, tenacity, smmap, pyarrow, protobuf, pillow, narwhals, mdurl, click, cachetools, blinker, pydeck, markdown-it-py, gitdb, rich, gitpython, altair, streamlit\n",
      "Successfully installed altair-5.5.0 blinker-1.9.0 cachetools-5.5.0 click-8.1.8 gitdb-4.0.12 gitpython-3.1.44 markdown-it-py-3.0.0 mdurl-0.1.2 narwhals-1.21.1 pillow-11.1.0 protobuf-5.29.3 pyarrow-18.1.0 pydeck-0.9.1 rich-13.9.4 smmap-5.0.2 streamlit-1.41.1 tenacity-9.0.0 toml-0.10.2 watchdog-6.0.0\n",
      "Note: you may need to restart the kernel to use updated packages.\n"
     ]
    }
   ],
   "source": [
    "pip install streamlit"
   ]
  },
  {
   "cell_type": "code",
   "execution_count": 1,
   "metadata": {},
   "outputs": [
    {
     "name": "stdout",
     "output_type": "stream",
     "text": [
      "Streamlit is already installed!\n"
     ]
    }
   ],
   "source": [
    "import subprocess\n",
    "import sys\n",
    "\n",
    "# Check if streamlit is installed, and install it if not\n",
    "try:\n",
    "    import streamlit\n",
    "    print(\"Streamlit is already installed!\")\n",
    "except ModuleNotFoundError:\n",
    "    print(\"Streamlit not found. Installing...\")\n",
    "    subprocess.check_call([sys.executable, \"-m\", \"pip\", \"install\", \"streamlit\"])\n",
    "    print(\"Streamlit installed successfully!\")\n"
   ]
  },
  {
   "cell_type": "code",
   "execution_count": 2,
   "metadata": {},
   "outputs": [
    {
     "name": "stdout",
     "output_type": "stream",
     "text": [
      "c:\\Users\\GREAT\\anaconda3\\envs\\My_python\\Lib\\site-packages\\streamlit\\__init__.py\n"
     ]
    }
   ],
   "source": [
    "import streamlit\n",
    "print(streamlit.__file__)\n"
   ]
  },
  {
   "cell_type": "code",
   "execution_count": 16,
   "metadata": {},
   "outputs": [],
   "source": [
    "conn = sqlite3.connect('expenses_project.db')  # Replace with your actual database file\n"
   ]
  },
  {
   "cell_type": "code",
   "execution_count": 17,
   "metadata": {},
   "outputs": [],
   "source": [
    "def execute_query(query):\n",
    "    try:\n",
    "        conn = sqlite3.connect('expenses_project.db')  # Connect to the correct SQLite database\n",
    "        df = pd.read_sql(query, conn)  # Execute the SQL query and fetch the result\n",
    "        conn.close()  # Close the connection\n",
    "        return df\n",
    "    except Exception as e:\n",
    "        raise Exception(f\"Error executing query: {e}\")\n"
   ]
  },
  {
   "cell_type": "code",
   "execution_count": 20,
   "metadata": {},
   "outputs": [],
   "source": [
    "import altair as alt"
   ]
  },
  {
   "cell_type": "code",
   "execution_count": 2,
   "metadata": {},
   "outputs": [
    {
     "name": "stdout",
     "output_type": "stream",
     "text": [
      "Connection successful!\n"
     ]
    }
   ],
   "source": [
    "import mysql.connector\n",
    "\n",
    "try:\n",
    "    connection = mysql.connector.connect(\n",
    "        host=\"localhost\",\n",
    "        user=\"root\",\n",
    "        password=\"P@sSw0rD051o\",\n",
    "        database=\"expenses_project\"\n",
    "    )\n",
    "    print(\"Connection successful!\")\n",
    "except mysql.connector.Error as err:\n",
    "    print(f\"Error: {err}\")\n"
   ]
  },
  {
   "cell_type": "code",
   "execution_count": null,
   "metadata": {},
   "outputs": [],
   "source": []
  }
 ],
 "metadata": {
  "kernelspec": {
   "display_name": "My_python",
   "language": "python",
   "name": "python3"
  },
  "language_info": {
   "codemirror_mode": {
    "name": "ipython",
    "version": 3
   },
   "file_extension": ".py",
   "mimetype": "text/x-python",
   "name": "python",
   "nbconvert_exporter": "python",
   "pygments_lexer": "ipython3",
   "version": "3.12.8"
  }
 },
 "nbformat": 4,
 "nbformat_minor": 2
}
